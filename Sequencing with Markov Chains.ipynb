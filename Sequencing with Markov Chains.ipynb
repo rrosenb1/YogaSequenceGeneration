{
 "cells": [
  {
   "cell_type": "code",
   "execution_count": null,
   "metadata": {},
   "outputs": [],
   "source": [
    "import pandas as pd\n",
    "import numpy as np\n",
    "import random as rm\n",
    "import matplotlib.pyplot as plt\n",
    "import seaborn as sns\n",
    "from PIL import Image\n"
   ]
  },
  {
   "cell_type": "code",
   "execution_count": null,
   "metadata": {},
   "outputs": [],
   "source": [
    "sequences = pd.read_csv('data/Sequence_Data.csv')\n",
    "\n",
    "# convert to lowercase\n",
    "sequences = sequences.applymap(lambda s:s.lower() if type(s) == str else s)\n",
    "sequences = sequences.applymap(lambda s:s.strip() if type(s) == str else s)"
   ]
  },
  {
   "cell_type": "code",
   "execution_count": null,
   "metadata": {},
   "outputs": [],
   "source": [
    "sequences"
   ]
  },
  {
   "cell_type": "code",
   "execution_count": 4,
   "metadata": {},
   "outputs": [],
   "source": [
    "flat_sequences = sequences.T.values.flatten()\n",
    "flat_sequences = flat_sequences.astype('str')\n",
    "\n",
    "# Remove nans and stop words from the list\n",
    "flat_sequences = np.delete(flat_sequences, np.where(flat_sequences=='nan')[0])\n",
    "flat_sequences = np.delete(flat_sequences, np.where(flat_sequences=='stop')[0])"
   ]
  },
  {
   "cell_type": "markdown",
   "metadata": {},
   "source": [
    "## Classify Poses"
   ]
  },
  {
   "cell_type": "code",
   "execution_count": 5,
   "metadata": {},
   "outputs": [],
   "source": [
    "global starting_poses\n",
    "global centering_poses\n",
    "\n",
    "starting_poses = ['start in childs pose', \n",
    "                  'start in easy seat', \n",
    "                  'start on back', \n",
    "                  'start in supta baddha konasana', \n",
    "                  'start in constructive rest pose']\n",
    "\n",
    "centering_poses = ['ujjayi breathing', \n",
    "                   'four-seven-eight breathing', \n",
    "                   'legs up the wall', \n",
    "                   'roll out neck']\n",
    "\n",
    "# Remove starting poses from list - these will be randomly selected from at the beginning of each sequence\n",
    "for i in starting_poses:\n",
    "    index = np.argwhere(flat_sequences==i)\n",
    "    flat_sequences = np.delete(flat_sequences, index)\n",
    "\n",
    "# Remove centering poses from list - these will be randomly selected from at the beginning of each sequence\n",
    "for i in centering_poses:\n",
    "    index = np.argwhere(flat_sequences==i)\n",
    "    flat_sequences = np.delete(flat_sequences, index)\n",
    "\n",
    "# Remove savasana - this will be tagged on to the end\n",
    "sav_index = np.argwhere(flat_sequences==\"savasana\")\n",
    "flat_sequences = np.delete(flat_sequences, sav_index)\n"
   ]
  },
  {
   "cell_type": "code",
   "execution_count": 6,
   "metadata": {
    "scrolled": true
   },
   "outputs": [],
   "source": [
    "allPoses = np.unique(flat_sequences, return_counts=True)"
   ]
  },
  {
   "cell_type": "code",
   "execution_count": 7,
   "metadata": {},
   "outputs": [
    {
     "data": {
      "text/plain": [
       "array([['1501.0', '1'],\n",
       "       ['airplane arms', '16'],\n",
       "       ['airplane pose', '6'],\n",
       "       ['anjaneyasana', '27'],\n",
       "       ['anjaneyasana with hands in prayer', '4'],\n",
       "       ['baddha konasana', '6'],\n",
       "       ['bear curl', '4'],\n",
       "       ['bicycles', '2'],\n",
       "       ['bird of paradise', '1'],\n",
       "       ['boat', '17'],\n",
       "       ['bound prasarita', '2'],\n",
       "       ['bow', '9'],\n",
       "       ['bridge', '25'],\n",
       "       ['cactus arms', '6'],\n",
       "       ['camel', '1'],\n",
       "       ['cat cows', '19'],\n",
       "       ['cat/cow lunges', '11'],\n",
       "       ['chair', '22'],\n",
       "       ['chair pose', '7'],\n",
       "       ['chair twist', '6'],\n",
       "       ['chaturanga', '20'],\n",
       "       ['childs pose', '34'],\n",
       "       ['cobra', '8'],\n",
       "       ['cobra waves', '10'],\n",
       "       ['cow', '2'],\n",
       "       ['crane', '1'],\n",
       "       ['crescent', '51'],\n",
       "       ['crescent lunge', '9'],\n",
       "       ['crescent twist', '20'],\n",
       "       ['crescent with airplane arms', '1'],\n",
       "       ['crow', '4'],\n",
       "       ['dolphin', '7'],\n",
       "       ['dolphin pose', '2'],\n",
       "       ['downdog', '85'],\n",
       "       ['drinking bird', '3'],\n",
       "       ['eagle', '8'],\n",
       "       ['eagle arms', '6'],\n",
       "       ['easy seat', '4'],\n",
       "       ['extended side angle', '26'],\n",
       "       ['fallen triangle', '2'],\n",
       "       ['figure 4', '4'],\n",
       "       ['flip dog', '4'],\n",
       "       ['forearm plank', '10'],\n",
       "       ['forearm side plank', '1'],\n",
       "       ['forward fold', '12'],\n",
       "       ['full locust', '1'],\n",
       "       ['gate pose', '5'],\n",
       "       ['goddess', '5'],\n",
       "       ['gomukhasana', '2'],\n",
       "       ['half boat', '3'],\n",
       "       ['half bow', '8'],\n",
       "       ['half moon', '6'],\n",
       "       ['half splits', '9'],\n",
       "       ['half splits with twist', '2'],\n",
       "       ['hand to foot', '5'],\n",
       "       ['handstand', '5'],\n",
       "       ['happy baby', '23'],\n",
       "       ['headstand', '5'],\n",
       "       [\"hero's pose\", '6'],\n",
       "       ['high plank', '7'],\n",
       "       ['hip dips', '2'],\n",
       "       ['horizon lunge', '6'],\n",
       "       ['horizon lunge/rainbow', '1'],\n",
       "       ['humble warrior', '5'],\n",
       "       ['janu sirsasana', '11'],\n",
       "       ['kneel', '6'],\n",
       "       ['lean back', '1'],\n",
       "       ['lizard', '10'],\n",
       "       ['locust', '19'],\n",
       "       ['low boat', '8'],\n",
       "       ['low lunge', '36'],\n",
       "       ['low lunge twist', '8'],\n",
       "       ['malasana', '12'],\n",
       "       ['malasana twist', '2'],\n",
       "       ['pidgeon', '11'],\n",
       "       ['pincha mayurasana', '4'],\n",
       "       ['plank', '34'],\n",
       "       ['prasarita', '23'],\n",
       "       ['prasarita twist', '6'],\n",
       "       ['puppy pose', '3'],\n",
       "       ['pyramid', '5'],\n",
       "       ['rainbow', '5'],\n",
       "       ['reaching crescent', '19'],\n",
       "       ['reclined crow', '1'],\n",
       "       ['reclined figure 4', '13'],\n",
       "       ['reverse crescent twist', '1'],\n",
       "       ['reverse plank', '3'],\n",
       "       ['reverse triangle', '17'],\n",
       "       ['reverse warior 2', '1'],\n",
       "       ['reverse warrior 2', '21'],\n",
       "       ['revolved crescent', '1'],\n",
       "       ['revolved half moon', '2'],\n",
       "       ['revolved pyramid', '1'],\n",
       "       ['revolved triangle', '2'],\n",
       "       [\"runner's lunge\", '15'],\n",
       "       ['seated figure 4', '4'],\n",
       "       ['seated forward fold', '13'],\n",
       "       ['seated lateral stretch', '13'],\n",
       "       ['seated torso circles', '4'],\n",
       "       ['seated twist', '12'],\n",
       "       ['shiva squat', '2'],\n",
       "       ['side plank', '10'],\n",
       "       ['simple twist', '1'],\n",
       "       ['single leg raise', '2'],\n",
       "       ['skandasana', '5'],\n",
       "       ['sphinx', '3'],\n",
       "       ['spinal balance', '14'],\n",
       "       ['spinal balance crunches', '7'],\n",
       "       ['splits', '3'],\n",
       "       ['standing figure 4', '1'],\n",
       "       ['standing forward fold', '20'],\n",
       "       ['standing leg raise', '27'],\n",
       "       ['standing splits', '10'],\n",
       "       ['straighten leg', '2'],\n",
       "       ['sun a', '28'],\n",
       "       ['sun b', '3'],\n",
       "       ['supine twist', '28'],\n",
       "       ['tabletop', '33'],\n",
       "       ['tadasana', '24'],\n",
       "       ['thirds down core exercise', '4'],\n",
       "       ['thread the needle', '11'],\n",
       "       ['three-legged dog', '9'],\n",
       "       ['three-legged dolphin', '1'],\n",
       "       ['tree', '9'],\n",
       "       ['triangle', '27'],\n",
       "       ['twist', '3'],\n",
       "       ['twisted chair', '1'],\n",
       "       ['vinyasa', '39'],\n",
       "       ['warrior 1', '7'],\n",
       "       ['warrior 2', '37'],\n",
       "       ['warrior 3', '17'],\n",
       "       ['wheel', '6'],\n",
       "       ['wrist stretch', '3']], dtype='<U33')"
      ]
     },
     "execution_count": 7,
     "metadata": {},
     "output_type": "execute_result"
    }
   ],
   "source": [
    "np.vstack((allPoses[0], allPoses[1])).T"
   ]
  },
  {
   "cell_type": "code",
   "execution_count": 8,
   "metadata": {},
   "outputs": [],
   "source": [
    "states = allPoses[0]\n",
    "\n",
    "# Remove nans and stop words from the list\n",
    "states = np.delete(states, np.where(states=='nan')[0])\n",
    "states = np.delete(states, np.where(states=='stop')[0])"
   ]
  },
  {
   "cell_type": "code",
   "execution_count": 9,
   "metadata": {},
   "outputs": [
    {
     "data": {
      "text/plain": [
       "133"
      ]
     },
     "execution_count": 9,
     "metadata": {},
     "output_type": "execute_result"
    }
   ],
   "source": [
    "len(states) # number of unique poses in the dictionary"
   ]
  },
  {
   "cell_type": "code",
   "execution_count": 10,
   "metadata": {},
   "outputs": [],
   "source": [
    "np.savetxt(\"states.txt\", states, fmt='%s')"
   ]
  },
  {
   "cell_type": "code",
   "execution_count": 11,
   "metadata": {},
   "outputs": [],
   "source": [
    "pose_classes = pd.read_csv(\"data/pose_classifications.csv\")"
   ]
  },
  {
   "cell_type": "code",
   "execution_count": 12,
   "metadata": {},
   "outputs": [
    {
     "data": {
      "text/html": [
       "<div>\n",
       "<style scoped>\n",
       "    .dataframe tbody tr th:only-of-type {\n",
       "        vertical-align: middle;\n",
       "    }\n",
       "\n",
       "    .dataframe tbody tr th {\n",
       "        vertical-align: top;\n",
       "    }\n",
       "\n",
       "    .dataframe thead th {\n",
       "        text-align: right;\n",
       "    }\n",
       "</style>\n",
       "<table border=\"1\" class=\"dataframe\">\n",
       "  <thead>\n",
       "    <tr style=\"text-align: right;\">\n",
       "      <th></th>\n",
       "      <th>pose</th>\n",
       "      <th>class</th>\n",
       "    </tr>\n",
       "  </thead>\n",
       "  <tbody>\n",
       "    <tr>\n",
       "      <th>0</th>\n",
       "      <td>airplane arms</td>\n",
       "      <td>standing</td>\n",
       "    </tr>\n",
       "    <tr>\n",
       "      <th>1</th>\n",
       "      <td>airplane pose</td>\n",
       "      <td>standing</td>\n",
       "    </tr>\n",
       "    <tr>\n",
       "      <th>2</th>\n",
       "      <td>anjaneyasana</td>\n",
       "      <td>standing</td>\n",
       "    </tr>\n",
       "    <tr>\n",
       "      <th>3</th>\n",
       "      <td>anjaneyasana with hands in prayer</td>\n",
       "      <td>standing</td>\n",
       "    </tr>\n",
       "    <tr>\n",
       "      <th>4</th>\n",
       "      <td>baddha konasana</td>\n",
       "      <td>warming</td>\n",
       "    </tr>\n",
       "  </tbody>\n",
       "</table>\n",
       "</div>"
      ],
      "text/plain": [
       "                                pose     class\n",
       "0                      airplane arms  standing\n",
       "1                      airplane pose  standing\n",
       "2                       anjaneyasana  standing\n",
       "3  anjaneyasana with hands in prayer  standing\n",
       "4                    baddha konasana   warming"
      ]
     },
     "execution_count": 12,
     "metadata": {},
     "output_type": "execute_result"
    }
   ],
   "source": [
    "pose_classes.head()"
   ]
  },
  {
   "cell_type": "code",
   "execution_count": 13,
   "metadata": {},
   "outputs": [],
   "source": [
    "global standing\n",
    "global warming\n",
    "global cooling \n",
    "\n",
    "standing = pose_classes[pose_classes['class']=='standing']\n",
    "warming = pose_classes[pose_classes['class']=='warming']\n",
    "cooling = pose_classes[pose_classes['class']=='cooling']"
   ]
  },
  {
   "cell_type": "code",
   "execution_count": 14,
   "metadata": {},
   "outputs": [
    {
     "name": "stdout",
     "output_type": "stream",
     "text": [
      "5 starting poses\n",
      "4 centering poses\n",
      "38 warming poses\n",
      "108 standing poses\n",
      "22 cooling poses\n"
     ]
    }
   ],
   "source": [
    "print(len(starting_poses), \"starting poses\")\n",
    "print(len(centering_poses), \"centering poses\")\n",
    "print(len(warming), \"warming poses\")\n",
    "print(len(standing), \"standing poses\")\n",
    "print(len(cooling), \"cooling poses\")\n"
   ]
  },
  {
   "cell_type": "code",
   "execution_count": null,
   "metadata": {},
   "outputs": [],
   "source": []
  },
  {
   "cell_type": "code",
   "execution_count": null,
   "metadata": {},
   "outputs": [],
   "source": []
  },
  {
   "cell_type": "markdown",
   "metadata": {},
   "source": [
    "## Create Transition Matrix"
   ]
  },
  {
   "cell_type": "code",
   "execution_count": 15,
   "metadata": {},
   "outputs": [],
   "source": [
    "def transition_matrix(transitions, states):\n",
    "    n = len(states) #number of states\n",
    "\n",
    "    M = np.zeros((n, n))\n",
    "\n",
    "    for i in range(0, len(transitions)-1):\n",
    "        index1 = np.where(states==transitions[i])[0]\n",
    "        index2 = np.where(states==transitions[i+1])[0]\n",
    "        M[int(index1[0])][int(index2[0])] += 1\n",
    "\n",
    "    #now convert to probabilities:\n",
    "    for row in M:\n",
    "        s = sum(row)\n",
    "        if s > 0:\n",
    "            row[:] = [f/s for f in row]\n",
    "            \n",
    "    return M"
   ]
  },
  {
   "cell_type": "code",
   "execution_count": 16,
   "metadata": {},
   "outputs": [],
   "source": [
    "transition_prob = transition_matrix(flat_sequences, states)"
   ]
  },
  {
   "cell_type": "markdown",
   "metadata": {},
   "source": [
    "## Create Visualizations"
   ]
  },
  {
   "cell_type": "code",
   "execution_count": 17,
   "metadata": {},
   "outputs": [],
   "source": [
    "def subset_matrix(list, transition_prob):\n",
    "    n = len(states) #number of states\n",
    "\n",
    "    M = np.zeros((n, n))\n",
    "    \n",
    "    for i in list:\n",
    "        for j in list:\n",
    "            if transition_prob[i, j]>0:\n",
    "                M[i, j]+=1\n",
    "    \n",
    "    #now convert to probabilities:\n",
    "    for row in M:\n",
    "        s = sum(row)\n",
    "        if s > 0:\n",
    "            row[:] = [f/s for f in row]\n",
    "    \n",
    "    M = M[~np.all(M == 0, axis=1)] # remove zero rows\n",
    "    M = M[:, ~np.all(M == 0, axis=0)] # remove zero columns\n",
    "    \n",
    "    labels_list = []\n",
    "    for i in list:\n",
    "        labels_list.append(states[i])\n",
    "    \n",
    "    ax = sns.heatmap(M, \n",
    "                 cmap=\"YlGnBu\", \n",
    "                 xticklabels = labels_list,\n",
    "                 yticklabels = labels_list\n",
    "                )\n",
    "    plt.show()"
   ]
  },
  {
   "cell_type": "code",
   "execution_count": 18,
   "metadata": {},
   "outputs": [
    {
     "data": {
      "image/png": "[encoded data removed]",
      "text/plain": [
       "<Figure size 432x288 with 2 Axes>"
      ]
     },
     "metadata": {
      "needs_background": "light"
     },
     "output_type": "display_data"
    }
   ],
   "source": [
    "ax = sns.heatmap(transition_prob, \n",
    "                 cmap=\"YlGnBu\",\n",
    "                 xticklabels=states,\n",
    "                 yticklabels=states\n",
    "                )\n",
    "plt.show()"
   ]
  },
  {
   "cell_type": "code",
   "execution_count": 19,
   "metadata": {},
   "outputs": [],
   "source": [
    "def top_n(M, n):\n",
    "    rowcounts = []\n",
    "    \n",
    "    for row in M:\n",
    "        count=0\n",
    "        \n",
    "        \n",
    "        for item in row:\n",
    "            if item > 0:\n",
    "                count+=1\n",
    "        rowcounts.append(count)\n",
    "    \n",
    "    # get indices of top N items by versatility\n",
    "    rowcounts = sorted(range(len(rowcounts)), key=lambda i: rowcounts[i], reverse=True)[:n]\n",
    "    \n",
    "    return rowcounts"
   ]
  },
  {
   "cell_type": "code",
   "execution_count": 20,
   "metadata": {},
   "outputs": [
    {
     "data": {
      "text/plain": [
       "[33, 26, 17, 38, 70, 118, 21, 127, 76, 116, 12, 117, 114, 20, 44]"
      ]
     },
     "execution_count": 20,
     "metadata": {},
     "output_type": "execute_result"
    }
   ],
   "source": [
    "# Find poses with the highest number of connections\n",
    "top_ten = top_n(transition_prob, 15)\n",
    "top_ten"
   ]
  },
  {
   "cell_type": "code",
   "execution_count": 21,
   "metadata": {},
   "outputs": [
    {
     "data": {
      "image/png": "[encoded data removed]",
      "text/plain": [
       "<Figure size 432x288 with 2 Axes>"
      ]
     },
     "metadata": {
      "needs_background": "light"
     },
     "output_type": "display_data"
    }
   ],
   "source": [
    "# Find most frequently used poses from allPoses\n",
    "counts = allPoses[1]\n",
    "most_used = sorted(range(len(counts)), key=lambda i: counts[i], reverse=True)[:15]\n",
    "\n",
    "labels_list=[]\n",
    "\n",
    "for i in most_used:\n",
    "    labels_list.append(states[i])\n",
    "    \n",
    "most_used_matrix = subset_matrix(most_used, transition_prob)"
   ]
  },
  {
   "cell_type": "code",
   "execution_count": 22,
   "metadata": {},
   "outputs": [
    {
     "data": {
      "image/png": "[encoded data removed]",
      "text/plain": [
       "<Figure size 432x288 with 2 Axes>"
      ]
     },
     "metadata": {
      "needs_background": "light"
     },
     "output_type": "display_data"
    }
   ],
   "source": [
    "subset_matrix(top_ten, transition_prob)"
   ]
  },
  {
   "cell_type": "markdown",
   "metadata": {},
   "source": [
    "## Generate Sequences"
   ]
  },
  {
   "cell_type": "code",
   "execution_count": 40,
   "metadata": {},
   "outputs": [],
   "source": [
    "class MarkovChain(object):\n",
    "    def __init__(self, transition_prob, states):\n",
    "        \"\"\"\n",
    "        Initialize the MarkovChain instance\n",
    "        \n",
    "        Parameters:\n",
    "        transition_prob: matrix object representing \n",
    "        transition probs in Markov Chain.\n",
    "        \"\"\"\n",
    "        self.transition_prob = transition_prob\n",
    "        self.states = states\n",
    "    \n",
    "    def next_state(self, current_state):\n",
    "        \"\"\"\n",
    "        Returns the state of the random variable \n",
    "        at the next time instance.\n",
    "        \n",
    "        Parameters:\n",
    "        current_state: str object representing current state of the system\n",
    "        \"\"\"\n",
    "        if isinstance(current_state, (int, float, complex)):\n",
    "            current_state = current_state\n",
    "        else:\n",
    "            index = np.where(states==current_state)[0]\n",
    "            current_state = int(index[0])\n",
    "        \n",
    "        next = np.random.choice(\n",
    "            list(range(0,len(self.states))), replace=True,\n",
    "            p=transition_prob[current_state, ]\n",
    "        )\n",
    "        \n",
    "        next = self.states[next]\n",
    "        \n",
    "        return next\n",
    "    \n",
    "    def generate_states(self, current_state, no=20):\n",
    "        \"\"\"\n",
    "        Generates the next states of the system\n",
    "        \n",
    "        Parameters:\n",
    "        current_state: str : state of the current random var\n",
    "        \n",
    "        no: int : the number of future states to generate\n",
    "        \"\"\"\n",
    "        num_warming = int(no/4) # 1/4 of sequence warming\n",
    "        num_standing = int(no/2) # 1/2 of sequence standing\n",
    "        num_cooling = int(no/4) # 1/4 of sequence cooling\n",
    "        \n",
    "        future_states = []\n",
    "        \n",
    "        # Pick a random starting position\n",
    "        future_states.append(np.random.choice(starting_poses))\n",
    "        \n",
    "        # Pick a random centering position\n",
    "        future_states.append(np.random.choice(centering_poses))\n",
    "        \n",
    "        position = len(future_states)\n",
    "        \n",
    "        while position < (no+1):\n",
    "            next_state = self.next_state(current_state)\n",
    "\n",
    "            # Don't add the same pose twice\n",
    "            if str(next_state) != str(current_state):\n",
    "                \n",
    "                # Add if warming\n",
    "                if position < num_warming:\n",
    "                    if str(next_state) in str(warming['pose']):\n",
    "                        future_states.append(next_state)\n",
    "                        current_state = next_state\n",
    "                        position +=1\n",
    "                # Add if standing\n",
    "                if (position >= num_warming) & (position < (num_standing + num_warming)):\n",
    "                    if str(next_state) in str(standing['pose']):\n",
    "                        future_states.append(next_state)\n",
    "                        current_state = next_state\n",
    "                        position+=1\n",
    "                # Add if cooling\n",
    "                if position >= (num_standing + num_warming):\n",
    "                    if str(next_state) in str(cooling['pose']):\n",
    "                        future_states.append(next_state)\n",
    "                        current_state = next_state\n",
    "                        position+=1\n",
    "        \n",
    "            else:\n",
    "                continue\n",
    "        \n",
    "        future_states.append('savasana')\n",
    "        return future_states\n"
   ]
  },
  {
   "cell_type": "code",
   "execution_count": 41,
   "metadata": {},
   "outputs": [],
   "source": [
    "MC = MarkovChain(transition_prob, states)"
   ]
  },
  {
   "cell_type": "code",
   "execution_count": 42,
   "metadata": {},
   "outputs": [
    {
     "data": {
      "text/plain": [
       "'low lunge'"
      ]
     },
     "execution_count": 42,
     "metadata": {},
     "output_type": "execute_result"
    }
   ],
   "source": [
    "MC.next_state(current_state=\"downdog\")"
   ]
  },
  {
   "cell_type": "code",
   "execution_count": 43,
   "metadata": {},
   "outputs": [
    {
     "data": {
      "text/plain": [
       "['start in childs pose',\n",
       " 'four-seven-eight breathing',\n",
       " 'boat',\n",
       " 'half boat',\n",
       " 'boat',\n",
       " 'low boat',\n",
       " 'tabletop',\n",
       " 'plank',\n",
       " 'cobra',\n",
       " 'childs pose',\n",
       " 'tabletop',\n",
       " 'downdog',\n",
       " 'cobra',\n",
       " 'childs pose',\n",
       " 'crescent',\n",
       " 'airplane arms',\n",
       " 'airplane pose',\n",
       " 'standing leg raise',\n",
       " 'figure 4',\n",
       " 'seated lateral stretch',\n",
       " 'forward fold',\n",
       " 'seated torso circles',\n",
       " 'seated lateral stretch',\n",
       " 'supine twist',\n",
       " 'reclined figure 4',\n",
       " 'happy baby',\n",
       " 'savasana']"
      ]
     },
     "execution_count": 43,
     "metadata": {},
     "output_type": "execute_result"
    }
   ],
   "source": [
    "first_state = np.random.choice(starting_poses)\n",
    "generated_class = MC.generate_states(current_state='seated lateral stretch', no=25)\n",
    "generated_class"
   ]
  },
  {
   "cell_type": "markdown",
   "metadata": {},
   "source": [
    "## Connect to Images"
   ]
  },
  {
   "cell_type": "code",
   "execution_count": null,
   "metadata": {},
   "outputs": [],
   "source": [
    "imgs = pd.read_csv(\"pose_image_files.csv\")\n",
    "imgs.head()"
   ]
  },
  {
   "cell_type": "code",
   "execution_count": null,
   "metadata": {},
   "outputs": [],
   "source": [
    "generated_class = pd.DataFrame(generated_class, columns = [\"pose\"])"
   ]
  },
  {
   "cell_type": "code",
   "execution_count": null,
   "metadata": {},
   "outputs": [],
   "source": [
    "class_imgs = pd.merge(generated_class, imgs, on='pose', how='inner')\n",
    "class_imgs = class_imgs.drop_duplicates(inplace=False)\n",
    "class_imgs = class_imgs.reset_index()\n",
    "class_imgs"
   ]
  },
  {
   "cell_type": "code",
   "execution_count": null,
   "metadata": {},
   "outputs": [],
   "source": [
    "images = []\n",
    "size = 64, 64\n",
    "\n",
    "for i in class_imgs['image file (all .jpeg)']:\n",
    "    path = 'images/' + i + '.jpeg'\n",
    "\n",
    "    try:  \n",
    "        img = Image.open(path, 'r')\n",
    "        img.thumbnail(size)\n",
    "        images.append(img)\n",
    "    except IOError: \n",
    "        pass\n"
   ]
  },
  {
   "cell_type": "code",
   "execution_count": null,
   "metadata": {},
   "outputs": [],
   "source": [
    "counter=0\n",
    "\n",
    "for i in images:\n",
    "    display(i)\n",
    "#     print(class_imgs['pose'][counter]) # print pose name under the image\n",
    "    counter+=1\n"
   ]
  },
  {
   "cell_type": "code",
   "execution_count": null,
   "metadata": {},
   "outputs": [],
   "source": [
    "import matplotlib.pyplot as plt\n",
    "\n",
    "f, ax = plt.subplots(1,5)\n",
    "for i in range(5):\n",
    "    ax[i].imshow(images[i])\n",
    "plt.show() # or display.display(plt.gcf()) if you prefer"
   ]
  },
  {
   "cell_type": "code",
   "execution_count": null,
   "metadata": {},
   "outputs": [],
   "source": [
    "import matplotlib.pyplot as plt\n",
    "\n",
    "def grid_display(list_of_images, list_of_titles=[], no_of_columns=4, figsize=(8,6)):\n",
    "\n",
    "    fig = plt.figure(figsize=figsize)\n",
    "    column = 0\n",
    "    for i in range(len(list_of_images)):\n",
    "        column += 1\n",
    "        #  check for end of column and create a new figure\n",
    "        if column == no_of_columns+1:\n",
    "            fig = plt.figure(figsize=figsize)\n",
    "            column = 1\n",
    "        fig.add_subplot(1, no_of_columns, column)\n",
    "        plt.imshow(list_of_images[i])\n",
    "        plt.axis('off')\n",
    "        if len(list_of_titles) >= len(list_of_images):\n",
    "            plt.title(list_of_titles[i])\n",
    "\n",
    "grid = grid_display(images, list_of_titles=class_imgs['pose'])\n",
    "grid"
   ]
  },
  {
   "cell_type": "code",
   "execution_count": null,
   "metadata": {},
   "outputs": [],
   "source": []
  },
  {
   "cell_type": "code",
   "execution_count": null,
   "metadata": {},
   "outputs": [],
   "source": []
  },
  {
   "cell_type": "code",
   "execution_count": null,
   "metadata": {},
   "outputs": [],
   "source": []
  },
  {
   "cell_type": "code",
   "execution_count": null,
   "metadata": {},
   "outputs": [],
   "source": []
  },
  {
   "cell_type": "code",
   "execution_count": null,
   "metadata": {},
   "outputs": [],
   "source": []
  },
  {
   "cell_type": "markdown",
   "metadata": {},
   "source": [
    "Sources:\n",
    "    https://www.datacamp.com/community/tutorials/markov-chains-python-tutorial\n",
    "    https://medium.com/@__amol__/markov-chains-with-python-1109663f3678\n",
    "    https://stackoverflow.com/questions/36006136/how-to-display-images-in-a-row-with-ipython-display/38556650\n",
    "    "
   ]
  },
  {
   "cell_type": "code",
   "execution_count": null,
   "metadata": {},
   "outputs": [],
   "source": []
  }
 ],
 "metadata": {
  "kernelspec": {
   "display_name": "Python 3",
   "language": "python",
   "name": "python3"
  },
  "language_info": {
   "codemirror_mode": {
    "name": "ipython",
    "version": 3
   },
   "file_extension": ".py",
   "mimetype": "text/x-python",
   "name": "python",
   "nbconvert_exporter": "python",
   "pygments_lexer": "ipython3",
   "version": "3.7.3"
  }
 },
 "nbformat": 4,
 "nbformat_minor": 2
}
